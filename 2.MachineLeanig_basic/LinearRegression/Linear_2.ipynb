{
  "nbformat": 4,
  "nbformat_minor": 0,
  "metadata": {
    "colab": {
      "name": "Linear_2.ipynb",
      "provenance": [],
      "collapsed_sections": []
    },
    "kernelspec": {
      "name": "python3",
      "display_name": "Python 3"
    }
  },
  "cells": [
    {
      "cell_type": "code",
      "metadata": {
        "colab": {
          "base_uri": "https://localhost:8080/"
        },
        "id": "NqkQI4611r34",
        "outputId": "446e62c0-1a3f-4d34-e17b-dd341ecd64af"
      },
      "source": [
        "from __future__ import division, print_function, unicode_literals\n",
        "import numpy as np \n",
        "import matplotlib.pyplot as plt\n",
        "\n",
        "# Diện tích (m^2)\n",
        "X_1 = np.array([[30,32.4138,34.8276,37.2414,39.6552,41.523,45.314,49.1243,55.124,59.123,62.113,67.153,70.342]]).T\n",
        "# giá tiền (triệu)\n",
        "y = np.array([[448.524,509.248,535.104,551.432,623.418,628.133,687.512,744.123,833.125,900.22,935.164,1012.342,1064.13]]).T\n",
        "# Số phòng\n",
        "X_2 =np.array([[2,3,3,2,1,2,2,3,4,2,2,4,4]]).T\n",
        "# Building Xbar \n",
        "one = np.ones((X_1.shape[0], 1))\n",
        "Xbar1 = np.concatenate((one, X_1), axis = 1)\n",
        "Xbar2 = np.concatenate((X_2, one), axis = 1)\n",
        "Xbar3=np.concatenate((Xbar1, Xbar2), axis = 1)\n",
        "Xbar =Xbar3[:,0:3]\n",
        "print(Xbar)\n",
        "# Calculating weights of the fitting line \n",
        "A = np.dot(Xbar.T, Xbar)\n",
        "b = np.dot(Xbar.T, y)\n",
        "w = np.dot(np.linalg.pinv(A), b)\n",
        "print('w = ', w)\n",
        "# Preparing the fitting line \n",
        "w_0 = w[0][0]\n",
        "w_1 = w[1][0]\n",
        "w_2 = w[2][0]\n",
        "\n",
        "P=2\n",
        "S=30\n",
        "#predict\n",
        "y1 = w_2*P+w_1*S + w_0\n",
        "P=4\n",
        "S=67.153\n",
        "y2 = w_2*P+w_1*S + w_0\n",
        "\n",
        "print( u'Predict price with height 50 m^2: %.2f (Trieu)'  %(y1) )\n",
        "print( u'Predict price with height 60 m^2: %.2f (Trieu)'  %(y2) )"
      ],
      "execution_count": 1,
      "outputs": [
        {
          "output_type": "stream",
          "text": [
            "[[ 1.     30.      2.    ]\n",
            " [ 1.     32.4138  3.    ]\n",
            " [ 1.     34.8276  3.    ]\n",
            " [ 1.     37.2414  2.    ]\n",
            " [ 1.     39.6552  1.    ]\n",
            " [ 1.     41.523   2.    ]\n",
            " [ 1.     45.314   2.    ]\n",
            " [ 1.     49.1243  3.    ]\n",
            " [ 1.     55.124   4.    ]\n",
            " [ 1.     59.123   2.    ]\n",
            " [ 1.     62.113   2.    ]\n",
            " [ 1.     67.153   4.    ]\n",
            " [ 1.     70.342   4.    ]]\n",
            "w =  [[13.30191567]\n",
            " [14.96123764]\n",
            " [-1.0464253 ]]\n",
            "Predict price with height 50 m^2: 460.05 (Trieu)\n",
            "Predict price with height 60 m^2: 1013.81 (Trieu)\n"
          ],
          "name": "stdout"
        }
      ]
    }
  ]
}